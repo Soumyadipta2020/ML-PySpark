{
 "cells": [
  {
   "cell_type": "markdown",
   "metadata": {},
   "source": [
    "# Docker "
   ]
  },
  {
   "cell_type": "code",
   "execution_count": 2,
   "metadata": {},
   "outputs": [],
   "source": [
    "# docker run -it --name pyspark-jupy --mount type=bind,source=C:/Users/soumy/OneDrive/Coding,target=/app/data --rm -p 8888:8888 quay.io/jupyter/pyspark-notebook"
   ]
  },
  {
   "cell_type": "markdown",
   "metadata": {},
   "source": [
    "# Spark"
   ]
  },
  {
   "cell_type": "markdown",
   "metadata": {},
   "source": [
    "## Spark Context"
   ]
  },
  {
   "cell_type": "code",
   "execution_count": 3,
   "metadata": {},
   "outputs": [
    {
     "name": "stdout",
     "output_type": "stream",
     "text": [
      "3.5.3\n"
     ]
    }
   ],
   "source": [
    "from pyspark import SparkContext\n",
    "sc = SparkContext.getOrCreate()\n",
    "print(sc.version)"
   ]
  },
  {
   "cell_type": "markdown",
   "metadata": {},
   "source": [
    "## Spark Session"
   ]
  },
  {
   "cell_type": "code",
   "execution_count": 4,
   "metadata": {},
   "outputs": [],
   "source": [
    "from pyspark.sql import SparkSession\n",
    "spark = SparkSession.builder.appName(\"demo\").getOrCreate()"
   ]
  },
  {
   "cell_type": "markdown",
   "metadata": {},
   "source": [
    "# Library"
   ]
  },
  {
   "cell_type": "code",
   "execution_count": 5,
   "metadata": {},
   "outputs": [],
   "source": [
    "from pyspark.sql.functions import col, median, max, min"
   ]
  },
  {
   "cell_type": "markdown",
   "metadata": {},
   "source": [
    "# Import Data"
   ]
  },
  {
   "cell_type": "code",
   "execution_count": 6,
   "metadata": {},
   "outputs": [
    {
     "name": "stdout",
     "output_type": "stream",
     "text": [
      "+----------+-----+-----+-----+-----+-------+----+\n",
      "|      date| open| high|  low|close| volume|Name|\n",
      "+----------+-----+-----+-----+-----+-------+----+\n",
      "|2013-02-08|45.07|45.35| 45.0|45.08|1824755|   A|\n",
      "|2013-02-11|45.17|45.18|44.45| 44.6|2915405|   A|\n",
      "|2013-02-12|44.81|44.95| 44.5|44.62|2373731|   A|\n",
      "+----------+-----+-----+-----+-----+-------+----+\n",
      "only showing top 3 rows\n",
      "\n"
     ]
    }
   ],
   "source": [
    "import string\n",
    "from pyspark import SparkFiles\n",
    "url_df = \"https://raw.githubusercontent.com/plotly/datasets/refs/heads/master/all_stocks_5yr.csv\"\n",
    "sc.addFile(url_df)\n",
    "filePath  = 'file://' + SparkFiles.get('all_stocks_5yr.csv')\n",
    "all_stocks_5yr = spark.read.csv(filePath, header=True, inferSchema= True).repartition(10)\n",
    "all_stocks_5yr = all_stocks_5yr.orderBy(\"Name\", \"date\")\n",
    "all_stocks_5yr.show(3)"
   ]
  },
  {
   "cell_type": "code",
   "execution_count": 7,
   "metadata": {},
   "outputs": [
    {
     "name": "stdout",
     "output_type": "stream",
     "text": [
      "root\n",
      " |-- date: date (nullable = true)\n",
      " |-- open: double (nullable = true)\n",
      " |-- high: double (nullable = true)\n",
      " |-- low: double (nullable = true)\n",
      " |-- close: double (nullable = true)\n",
      " |-- volume: integer (nullable = true)\n",
      " |-- Name: string (nullable = true)\n",
      "\n"
     ]
    }
   ],
   "source": [
    "all_stocks_5yr.printSchema()"
   ]
  },
  {
   "cell_type": "markdown",
   "metadata": {},
   "source": [
    "# Data Summarise"
   ]
  },
  {
   "cell_type": "code",
   "execution_count": 8,
   "metadata": {},
   "outputs": [
    {
     "name": "stdout",
     "output_type": "stream",
     "text": [
      "+----------+------------------+------------------+-------+----+---------+\n",
      "|      date|              open|             close|   high| low|   volume|\n",
      "+----------+------------------+------------------+-------+----+---------+\n",
      "|2014-03-21|             59.16|             58.23|1316.99|4.01|3666543.0|\n",
      "|2016-02-01|             60.07|60.495000000000005|1094.79|2.11|3034645.5|\n",
      "|2017-11-17| 75.00999999999999| 74.75999999999999| 1749.6|3.89|1978398.5|\n",
      "|2014-04-02|            58.955|            58.965|1276.74|4.06|2060845.5|\n",
      "|2013-10-18|54.040000000000006|             53.94|1056.02|3.51|2277441.0|\n",
      "+----------+------------------+------------------+-------+----+---------+\n",
      "only showing top 5 rows\n",
      "\n"
     ]
    }
   ],
   "source": [
    "df_summaise = all_stocks_5yr.drop('Name')\n",
    "df_summaise = df_summaise.\\\n",
    "    groupBy('date').\\\n",
    "    agg(\n",
    "        median(\"open\").alias(\"open\"), \n",
    "        median(\"close\").alias(\"close\"), \n",
    "        max(\"high\").alias(\"high\"), \n",
    "        min(\"low\").alias(\"low\"),\n",
    "        median(\"volume\").alias(\"volume\")\n",
    "    ).orderBy(\"date\").\\\n",
    "    repartition(10)\n",
    "df_summaise.show(5)"
   ]
  },
  {
   "cell_type": "code",
   "execution_count": null,
   "metadata": {},
   "outputs": [],
   "source": []
  }
 ],
 "metadata": {
  "kernelspec": {
   "display_name": "Python 3 (ipykernel)",
   "language": "python",
   "name": "python3"
  },
  "language_info": {
   "codemirror_mode": {
    "name": "ipython",
    "version": 3
   },
   "file_extension": ".py",
   "mimetype": "text/x-python",
   "name": "python",
   "nbconvert_exporter": "python",
   "pygments_lexer": "ipython3",
   "version": "3.11.10"
  }
 },
 "nbformat": 4,
 "nbformat_minor": 2
}
